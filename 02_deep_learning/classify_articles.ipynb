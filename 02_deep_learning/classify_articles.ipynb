{
 "cells": [
  {
   "cell_type": "markdown",
   "metadata": {},
   "source": [
    "# Loading the data"
   ]
  },
  {
   "cell_type": "code",
   "execution_count": 1,
   "metadata": {},
   "outputs": [
    {
     "data": {
      "text/plain": [
       "210331"
      ]
     },
     "execution_count": 1,
     "metadata": {},
     "output_type": "execute_result"
    }
   ],
   "source": [
    "import pandas as pd\n",
    "import numpy as np\n",
    "import matplotlib.pyplot as plt\n",
    "import json\n",
    "\n",
    "plt.rcParams[\"figure.figsize\"] = (10,10)\n",
    "\n",
    "data = json.load(open('xac_tags'))\n",
    "\n",
    "len(data)"
   ]
  },
  {
   "cell_type": "markdown",
   "metadata": {},
   "source": [
    "# How the raw data looks like ?"
   ]
  },
  {
   "cell_type": "code",
   "execution_count": 26,
   "metadata": {},
   "outputs": [
    {
     "name": "stdout",
     "output_type": "stream",
     "text": [
      "{'ID': '110262580', 'Bodytext': 'Der Bayerische Hotel- und Gaststättenverband hat die geplante Lockerung des Tanzverbots an den sogenannten stillen Feiertagen begrüßt. Zurückhaltender reagierten die Kirchen. Man warne vor einer \"scheibchenweisen Aushöhlung\" der Regelung, sagte ein Sprecher der katholischen Freisinger Bischofskonferenz am Donnerstag. Nach monatelangem Streit hatten sich CSU und FDP darauf geeinigt, dass in der Nacht vor stillen Tagen Partys und andere Tanzveranstaltungen nicht schon um Mitternacht beendet werden müssen, sondern erst um 2 Uhr.\\nInnenminister Joachim Herrmann (CSU) betonte: \"Der ernste Charakter der stillen Tage bleibt in Bayern weiterhin voll gewahrt.\" Mit der Anpassung orientiere man sich an die veränderten Lebensgewohnheiten der Menschen. Der Gaststättenverband hätte sich zwar über eine Ausweitung der Öffnungszeiten bis 3 Uhr gefreut, sei aber nun \"dankbar\" für den Kompromiss, sagte Präsident Ulrich Brandl. Er hofft nun auf eine schnelle gesetzliche Umsetzung: \"Um Rechtssicherheit herzustellen, sollte das Gesetz sehr zügig auf den Weg gebracht werden, so dass bereits im November die neue Regelung gilt.\"\\nDer nächste stille Feiertag ist bereits nächste Woche Allerheiligen am 1. November, in der Nacht davor steigen die Halloweenpartys. Laut Gesetz fallen noch Aschermittwoch, Gründonnerstag, Karfreitag, Karsamstag, der Volkstrauertag, Buß- und Bettag, der Totensonntag und Heiligabend von 14 Uhr an in diese Kategorie. Unterhaltungsveranstaltungen mit fröhlichem Charakter sind an diesen Tagen verboten.\\n\"Wir erwarten, dass diese Regelung jetzt Bestand hat\", sagte ein Sprecher der evangelischen Landeskirche in München. Die den stillen Feiertagen eingeräumte Zeit dürfe nicht immer weiter verkürzt werden. Stille Tage beträfen in immer hektischer werdenden Zeiten nicht nur die Kirchen, erklärte er. \"Sie sind wichtig für die ganze Gesellschaft.\" Das betonte auch der Sprecher der katholischen Bischofskonferenz: \"Es muss Zeit zum Innehalten bleiben, aus unserer Sicht nützt das der ganzen Gesellschaft.\"\\n', 'Headline': 'Sing Hallelujah', 'Introtext': 'Tanzverbot gelockert: Gastronomie freut sich, Kirchen reagieren zurückhaltend', 'Organizations': ['Bayerische Hotel- und Gaststättenverband', 'Freisinger Bischofskonferenz', 'CSU', 'FDP', 'CSU'], 'Persons': ['Joachim Herrmann', 'Ulrich Brandl'], 'Locations': ['Bayern', 'Allerheiligen', 'München'], 'Misc': None, 'Rake': ['Kirchen'], 'PublishDate': '2012-10-26 07:43:05', 'AuthorLong': '', 'AuthorShort': '', 'ManuallyAddedKeywords': [], 'Categories': ['muenchen']}\n",
      "{'ID': '150754198', 'Bodytext': 'Die Finanzkrise mit der krachenden Pleite der Investmentbank Lehman Brothers hat bei den Investoren schlimme Verletzungen in der Psyche hinterlassen, die bis heute nachwirken. Immer wenn etwas an die Krise von Jahr 2008 erinnert, in der der Deutsche Aktienindex (Dax) die Hälfte seines Wertes einbüßte, geraten die Investoren in Panik und flüchten aus den Börsen. 2008 ist für sie zu einem bösen Phantom geworden.\\nJetzt spukt es wieder, und die Angst hat in kurzer Zeit verheerende Verwerfungen ausgelöst. Der Dax büßte in den ersten vier Handelstagen des Jahres einen Börsenwert von fast 100 Milliarden Euro ein. Entfesselt wurde das Phantom dieses Mal in China, der zweitgrößten Ökonomie der Welt hinter Amerika. Der kommunistischen Partei scheint die Kontrolle über die Finanzmärkte im Reich der Mitte entglitten. Trotz Milliardeninterventionen und panisch eingeführter Sicherheitsnetze befinden sich die Kurse in Shanghai im freien Fall, weil die Akteure ein Ende des chinesischen Wachstumswunders fürchten. Und weil es die Investorenlegende George Soros jetzt gewagt hat, den Namen des Phantom offen auszusprechen, ist die Sorge um einen globalen Einbruch so groß wie lange nicht. Soros warnt offen vor einer neuen von China ausgehenden Finanzkrise – und weltweit drehen die Investoren durch. Soros hat gute Argumente parat. Chinas Unternehmen und auch viele Regionen sind hoch verschuldet. Sollte das Wachstum einbrechen, droht eine Welle von Pleiten, die auch Stress für das Bankensystem bedeuten.\\nDoch anders als bei Lehman Brothers sind die chinesischen Banken nicht in den globalen Finanzmarkt eingebunden, es droht somit keine globale Pleite-Kaskade mit weltweiten Schieflagen. Auch für die globale Ökonomie ist Chinas Wirtschaft weit weniger wichtig als Amerika.\\nDoch leider ticken die Finanzmärkte nicht rational. Fundamentale Daten interessieren oft nicht. Doch manchmal schaffen sie mit ihren Crashs eine ganz neue Realität. Damit das jetzt nicht passiert, muss das Phantom schnell verjagt werden.\\nholger.zschaepitz@weltn24.de\\n', 'Headline': 'Das Lehman-Phantom', 'Introtext': '', 'Organizations': ['Deutsche Aktienindex', 'Chinas Unternehmen', 'Lehman Brothers'], 'Persons': ['Lehman Brothers', 'George Soros', 'Soros', 'Soros', 'Chinas'], 'Locations': ['China', 'Amerika', 'Shanghai', 'China', 'Amerika'], 'Misc': ['chinesischen', 'Finanzkrise', 'chinesischen'], 'Rake': ['Finanzkrise', 'Phantom', 'Amerika', 'Soros'], 'PublishDate': '2016-01-08 07:22:40', 'AuthorLong': 'Holger Zschäpitz', 'AuthorShort': '', 'ManuallyAddedKeywords': ['Zschaepitz-Holger'], 'Categories': ['debatte']}\n",
      "dict_keys(['ID', 'Bodytext', 'Headline', 'Introtext', 'Organizations', 'Persons', 'Locations', 'Misc', 'Rake', 'PublishDate', 'AuthorLong', 'AuthorShort', 'ManuallyAddedKeywords', 'Categories'])\n"
     ]
    }
   ],
   "source": [
    "for article in data[:2]:\n",
    "    print(article)\n",
    "\n",
    "print(data[0].keys())"
   ]
  },
  {
   "cell_type": "markdown",
   "metadata": {},
   "source": [
    "# Clean the data a little bit"
   ]
  },
  {
   "cell_type": "code",
   "execution_count": 2,
   "metadata": {},
   "outputs": [],
   "source": [
    "to_be_removed = ['welt_kompakt', 'die_welt', 'wams' 'print_politik', 'print' 'newsapp']\n",
    "\n",
    "for article in data:\n",
    "    categories_for_article = article['Categories']\n",
    "            \n",
    "    if len(categories_for_article) == 1 and \".\" in categories_for_article[0]:\n",
    "        categories_for_article[0] = ''\n",
    "        \n",
    "    if len(categories_for_article) > 1: \n",
    "        for current_category in categories_for_article:\n",
    "            if current_category in to_be_removed:\n",
    "                categories_for_article.remove(current_category)\n",
    "                \n",
    "    for index, category in enumerate(categories_for_article):\n",
    "        if \"_\" in category:\n",
    "            splitted = category.split(\"_\")\n",
    "            categories_for_article[index] = splitted[1]\n",
    "            "
   ]
  },
  {
   "cell_type": "code",
   "execution_count": 3,
   "metadata": {},
   "outputs": [
    {
     "data": {
      "text/plain": [
       "<matplotlib.axes._subplots.AxesSubplot at 0x7fa0f93ea358>"
      ]
     },
     "execution_count": 3,
     "metadata": {},
     "output_type": "execute_result"
    },
    {
     "data": {
      "image/png": "[encoded data removed]",
      "text/plain": [
       "<Figure size 432x288 with 1 Axes>"
      ]
     },
     "metadata": {
      "needs_background": "light"
     },
     "output_type": "display_data"
    }
   ],
   "source": [
    "keys = ['Introtext', 'Categories']\n",
    "\n",
    "df = pd.DataFrame(data, columns=keys)\n",
    "\n",
    "df['Introtext'].replace('', np.nan, inplace=True)\n",
    "\n",
    "df.dropna(inplace=True)\n",
    "\n",
    "def to_s(categories):\n",
    "    return ''.join(categories)\n",
    "\n",
    "df['Categories'] = df['Categories'].apply(to_s)\n",
    "\n",
    "filtered = df.groupby('Categories').filter(lambda x: len(x) >= 250)\n",
    "\n",
    "pd.value_counts(filtered['Categories']).plot(kind='barh')"
   ]
  },
  {
   "cell_type": "markdown",
   "metadata": {},
   "source": [
    "# Prepare training and test data"
   ]
  },
  {
   "cell_type": "code",
   "execution_count": 15,
   "metadata": {},
   "outputs": [
    {
     "name": "stdout",
     "output_type": "stream",
     "text": [
      "(127733,)\n",
      "1\n"
     ]
    }
   ],
   "source": [
    "train_size = int(len(filtered) * .8)\n",
    "train_articles = filtered['Introtext'][:train_size]\n",
    "train_categories = filtered['Categories'][:train_size]\n",
    "test_articles = filtered['Introtext'][train_size:]\n",
    "test_categories = filtered['Categories'][train_size:]\n",
    "num_labels = pd.value_counts(train_categories).size\n",
    "\n",
    "print(train_articles.shape)\n",
    "print(train_articles.ndim)"
   ]
  },
  {
   "cell_type": "markdown",
   "metadata": {},
   "source": [
    "# Tokenize and prepare to data to feed into the neural network"
   ]
  },
  {
   "cell_type": "code",
   "execution_count": 16,
   "metadata": {},
   "outputs": [],
   "source": [
    "from keras.preprocessing.text import Tokenizer\n",
    "\n",
    "vocabulary_size = 20000\n",
    "\n",
    "tokenize = Tokenizer(num_words=vocabulary_size)\n",
    "\n",
    "tokenize.fit_on_texts(train_articles)\n",
    "\n",
    "x_train = tokenize.texts_to_matrix(train_categories)"
   ]
  },
  {
   "cell_type": "code",
   "execution_count": 17,
   "metadata": {},
   "outputs": [],
   "source": [
    "from sklearn import preprocessing\n",
    "encoder = preprocessing.LabelBinarizer()\n",
    "\n",
    "encoder.fit(train_categories)\n",
    "\n",
    "y_train = encoder.transform(train_categories)\n",
    "y_test = encoder.transform(test_categories)"
   ]
  },
  {
   "cell_type": "markdown",
   "metadata": {},
   "source": [
    "# Train..."
   ]
  },
  {
   "cell_type": "code",
   "execution_count": 57,
   "metadata": {},
   "outputs": [
    {
     "name": "stdout",
     "output_type": "stream",
     "text": [
      "Train on 114959 samples, validate on 12774 samples\n",
      "Epoch 1/3\n",
      "114959/114959 [==============================] - 217s 2ms/step - loss: 1.0087 - acc: 0.7484 - val_loss: 0.9242 - val_acc: 0.7496\n",
      "Epoch 2/3\n",
      "114959/114959 [==============================] - 222s 2ms/step - loss: 0.9165 - acc: 0.7513 - val_loss: 0.9225 - val_acc: 0.7496\n",
      "Epoch 3/3\n",
      "114959/114959 [==============================] - 216s 2ms/step - loss: 0.9157 - acc: 0.7513 - val_loss: 0.9253 - val_acc: 0.7496\n"
     ]
    }
   ],
   "source": [
    "from keras.models import Sequential\n",
    "from keras.layers import Dense, Activation\n",
    "\n",
    "model = Sequential()\n",
    "\n",
    "model.add(Dense(512, input_shape=(vocabulary_size,)))\n",
    "model.add(Activation('relu'))\n",
    "\n",
    "model.add(Dense(num_labels))\n",
    "model.add(Activation('softmax'))\n",
    "\n",
    "batch_size = 64\n",
    "  \n",
    "model.compile(loss='categorical_crossentropy', \n",
    "              optimizer='adam', \n",
    "              metrics=['accuracy'])\n",
    "\n",
    "history = model.fit(x_train, y_train, \n",
    "                    batch_size=batch_size, \n",
    "                    epochs=3, \n",
    "                    verbose=1,\n",
    "                    validation_split=0.1)"
   ]
  },
  {
   "cell_type": "markdown",
   "metadata": {},
   "source": [
    "# Let's try it out"
   ]
  },
  {
   "cell_type": "code",
   "execution_count": 58,
   "metadata": {},
   "outputs": [
    {
     "name": "stdout",
     "output_type": "stream",
     "text": [
      "Humor aus Bayern: \"Was weg is, is weg\" ..\n",
      "Real category: vermischtes\n",
      "Predicted category: vermischtes\n",
      "Der deutsche Basketballstar Henrik Rödl studierte an der Uni, die Jordan prägte. ..\n",
      "Real category: wamssport\n",
      "Predicted category: vermischtes\n",
      "WHO: Anti-Epidemie-Technik des HPI aus Potsdam ++ Walfangkommission: Ministerin  ..\n",
      "Real category: wissen\n",
      "Predicted category: vermischtes\n",
      "Am Sonntag wählen zwei Schlüsselländer ihrer Region Parlament und Regierung. Tun ..\n",
      "Real category: politik\n",
      "Predicted category: hamburg\n",
      "Prozess: Bäckereikette hat Betriebsrat nach Überwachung seines PCs entlassen ..\n",
      "Real category: muenchen\n",
      "Predicted category: sport\n",
      "Konzerte, Poetry Slams, Tanzkurse und ein Restaurant: Der Frannz Club gehört zu  ..\n",
      "Real category: berlin\n",
      "Predicted category: sport\n",
      "Bericht soll NRW-Verkehrsminister Harry Voigtsberger bei Entscheidung helfen ..\n",
      "Real category: duesseldorf\n",
      "Predicted category: vermischtes\n",
      "Und bald auch wieder mit Seife vom Designer ..\n",
      "Real category: vermischtes\n",
      "Predicted category: vermischtes\n",
      "Die Frankfurter Übersetzerin für \"Leichte Sprache\" stutzt Übermaß an Bürokratie  ..\n",
      "Real category: vermischtes\n",
      "Predicted category: vermischtes\n",
      "Stürmer Timo Werner entfacht bei Leipzigs Sieg über Schalke mit einem geschunden ..\n",
      "Real category: sport\n",
      "Predicted category: politik\n"
     ]
    }
   ],
   "source": [
    "text_labels = encoder.classes_\n",
    "\n",
    "for ctr in range(10):    \n",
    "    prediction = model.predict(np.array([x_train[ctr]]))\n",
    "    predicted_label = text_labels[np.argmax(prediction[0])]\n",
    "    print(test_articles.iloc[ctr][:80], \"..\")\n",
    "    print('Real category: ' + test_categories.iloc[ctr])\n",
    "    print(\"Predicted category: \" + predicted_label)"
   ]
  },
  {
   "cell_type": "code",
   "execution_count": null,
   "metadata": {},
   "outputs": [],
   "source": []
  }
 ],
 "metadata": {
  "kernelspec": {
   "display_name": "Python 3",
   "language": "python",
   "name": "python3"
  },
  "language_info": {
   "codemirror_mode": {
    "name": "ipython",
    "version": 3
   },
   "file_extension": ".py",
   "mimetype": "text/x-python",
   "name": "python",
   "nbconvert_exporter": "python",
   "pygments_lexer": "ipython3",
   "version": "3.6.7"
  }
 },
 "nbformat": 4,
 "nbformat_minor": 2
}
